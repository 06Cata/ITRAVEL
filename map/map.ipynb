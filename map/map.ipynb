{
 "cells": [
  {
   "cell_type": "markdown",
   "metadata": {},
   "source": [
    "# folium"
   ]
  },
  {
   "cell_type": "code",
   "execution_count": 3,
   "metadata": {},
   "outputs": [],
   "source": [
    "import folium\n",
    "import json\n",
    "\n",
    "# 讀取JSON檔案\n",
    "with open(\"response_0813.json\", \"r\", encoding=\"utf-8\") as json_file:\n",
    "    data = json.load(json_file)"
   ]
  },
  {
   "cell_type": "code",
   "execution_count": 11,
   "metadata": {},
   "outputs": [],
   "source": [
    "# 創建一個地圖物件，設定中心點為台灣的經緯度\n",
    "map_center = [25.0, 121.5]\n",
    "my_map = folium.Map(location=map_center, zoom_start=10)\n",
    "\n",
    "# 提取景點資訊\n",
    "places = data[\"message\"][0][\"day1\"][1]\n",
    "\n",
    "# 在地圖上標記每個景點\n",
    "for place_key, place_info in places.items():\n",
    "    if place_key in [\"morning_time\", \"afternoon_time1\", \"afternoon_time2\", \"lunch\", \"dinner\", \"hotel\"]:\n",
    "        lat = place_info[\"lat\"]\n",
    "        lng = place_info[\"lng\"]\n",
    "        name = place_info[\"name\"]\n",
    "        city = place_info[\"city\"]\n",
    "        introduce = place_info[\"introduce\"] if \"introduce\" in place_info else \"\"\n",
    "\n",
    "        popup_html = f\"<b>{name}</b><br>{city}<br>{introduce}\"\n",
    "        \n",
    "        folium.Marker(\n",
    "            location=[lat, lng],\n",
    "            popup=folium.Popup(html=popup_html, parse_html=True),\n",
    "            tooltip=city\n",
    "        ).add_to(my_map)\n",
    "\n",
    "# 保存地圖到HTML文件\n",
    "my_map.save(\"map_with_markers.html\")\n"
   ]
  },
  {
   "cell_type": "markdown",
   "metadata": {},
   "source": [
    "# matplotlib"
   ]
  }
 ],
 "metadata": {
  "kernelspec": {
   "display_name": "Python 3",
   "language": "python",
   "name": "python3"
  },
  "language_info": {
   "codemirror_mode": {
    "name": "ipython",
    "version": 3
   },
   "file_extension": ".py",
   "mimetype": "text/x-python",
   "name": "python",
   "nbconvert_exporter": "python",
   "pygments_lexer": "ipython3",
   "version": "3.11.4"
  },
  "orig_nbformat": 4
 },
 "nbformat": 4,
 "nbformat_minor": 2
}
