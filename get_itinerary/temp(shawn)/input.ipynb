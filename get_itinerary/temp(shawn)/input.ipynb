{
 "cells": [
  {
   "cell_type": "code",
   "execution_count": 141,
   "metadata": {},
   "outputs": [],
   "source": [
    "import random\n",
    "import json"
   ]
  },
  {
   "cell_type": "code",
   "execution_count": 142,
   "metadata": {},
   "outputs": [],
   "source": [
    "counties = [\n",
    "    '基隆市', '臺北市', '新北市', '桃園市', '新竹市', '新竹縣', '苗栗縣',\n",
    "    '臺中市', '彰化縣', '南投縣', '雲林縣', '嘉義市', '嘉義縣', '臺南市',\n",
    "    '高雄市', '屏東縣', '宜蘭縣', '花蓮縣', '臺東縣', '澎湖縣', '金門縣',\n",
    "    '連江縣'\n",
    "]\n",
    "rest_tag = ['燒烤', '日本料理', '韓式料理', '火鍋', '泰式料理', '鐵板燒', '速食餐廳', '宵夜', '小吃', '居酒屋', '川菜']  # 餐廳tag可以加在這裡\n",
    "rest_tag2 = ['親子餐廳','約會餐廳','精緻高級'] "
   ]
  },
  {
   "cell_type": "code",
   "execution_count": 143,
   "metadata": {},
   "outputs": [],
   "source": [
    "hotel_tag = ['飯店/旅館/酒店','青年/背包旅館','汽車旅館','民宿']  # hotel tag 可以加在這裡\n",
    "hotel_tag2 = ['SPA','停車場']"
   ]
  },
  {
   "cell_type": "code",
   "execution_count": 144,
   "metadata": {},
   "outputs": [],
   "source": [
    "spot_tags = ['戶外活動','海洋']  # spot tag 可以加在這裡"
   ]
  },
  {
   "cell_type": "code",
   "execution_count": 145,
   "metadata": {},
   "outputs": [
    {
     "name": "stdout",
     "output_type": "stream",
     "text": [
      "花蓮縣\n"
     ]
    }
   ],
   "source": [
    "# choose city\n",
    "city = random.choice(counties)\n",
    "print(city)"
   ]
  },
  {
   "cell_type": "code",
   "execution_count": 146,
   "metadata": {},
   "outputs": [
    {
     "name": "stdout",
     "output_type": "stream",
     "text": [
      "<class 'int'>\n"
     ]
    }
   ],
   "source": [
    "# 旅遊天數\n",
    "days = random.randint(2, 7)\n",
    "print(type(days))"
   ]
  },
  {
   "cell_type": "code",
   "execution_count": 147,
   "metadata": {},
   "outputs": [
    {
     "name": "stdout",
     "output_type": "stream",
     "text": [
      "['日本料理', '泰式料理', '宵夜']\n",
      "['燒烤']\n"
     ]
    }
   ],
   "source": [
    "# choose restaurant tag\n",
    "food_tag = random.sample(rest_tag,3)\n",
    "print(food_tag)\n",
    "food_tag2 = random.sample(rest_tag,1)\n",
    "print(food_tag2)"
   ]
  },
  {
   "cell_type": "code",
   "execution_count": 148,
   "metadata": {},
   "outputs": [
    {
     "name": "stdout",
     "output_type": "stream",
     "text": [
      "<class 'int'>\n"
     ]
    }
   ],
   "source": [
    "# 餐廳\n",
    "rest_importance = random.randint(1,5)\n",
    "print(type(rest_importance))"
   ]
  },
  {
   "cell_type": "code",
   "execution_count": 149,
   "metadata": {},
   "outputs": [
    {
     "name": "stdout",
     "output_type": "stream",
     "text": [
      "3.3\n"
     ]
    }
   ],
   "source": [
    "# 餐廳評分\n",
    "food_rating = round(random.uniform(1,5),1) # 生成一個rating介在1.0~5.0\n",
    "food_rating = \"{:.1f}\".format(food_rating) # 讓生成的整數出現1.0\n",
    "food_rating = float(food_rating)\n",
    "print(food_rating)"
   ]
  },
  {
   "cell_type": "code",
   "execution_count": 150,
   "metadata": {},
   "outputs": [
    {
     "name": "stdout",
     "output_type": "stream",
     "text": [
      "4\n"
     ]
    }
   ],
   "source": [
    "# restanrant price\n",
    "price = random.randint(1,5)\n",
    "print(price)"
   ]
  },
  {
   "cell_type": "code",
   "execution_count": 151,
   "metadata": {},
   "outputs": [
    {
     "name": "stdout",
     "output_type": "stream",
     "text": [
      "['青年/背包旅館']\n",
      "['停車場']\n"
     ]
    }
   ],
   "source": [
    "# choose hotel tag\n",
    "tag_hotel = random.sample(hotel_tag,1)\n",
    "print(tag_hotel)\n",
    "tag_hotel2 = random.sample(hotel_tag2,1)\n",
    "print(tag_hotel2)"
   ]
  },
  {
   "cell_type": "code",
   "execution_count": 152,
   "metadata": {},
   "outputs": [
    {
     "name": "stdout",
     "output_type": "stream",
     "text": [
      "<class 'int'>\n"
     ]
    }
   ],
   "source": [
    "# hotel\n",
    "hotel_importance = random.randint(1,5)\n",
    "print(type(hotel_importance))"
   ]
  },
  {
   "cell_type": "code",
   "execution_count": 153,
   "metadata": {},
   "outputs": [
    {
     "name": "stdout",
     "output_type": "stream",
     "text": [
      "12600 19200\n"
     ]
    }
   ],
   "source": [
    "# hotel price\n",
    "price_min = 100*random.randint(1,200)\n",
    "price_max = 100*random.randint(1,200)\n",
    "while price_max < price_min:\n",
    "    price_max = 100*random.randint(1,200)\n",
    "print(price_min,price_max)"
   ]
  },
  {
   "cell_type": "code",
   "execution_count": 154,
   "metadata": {},
   "outputs": [
    {
     "name": "stdout",
     "output_type": "stream",
     "text": [
      "<class 'float'>\n"
     ]
    }
   ],
   "source": [
    "# hotel 評分\n",
    "hotel_rating = round(random.uniform(1,5),1) # 生成一個rating介在1.0~5.0\n",
    "hotel_rating = \"{:.1f}\".format(hotel_rating) # 讓生成的整數出現1.0\n",
    "hotel_rating = float(hotel_rating)\n",
    "print(type(hotel_rating))"
   ]
  },
  {
   "cell_type": "code",
   "execution_count": 155,
   "metadata": {},
   "outputs": [
    {
     "name": "stdout",
     "output_type": "stream",
     "text": [
      "['海洋']\n"
     ]
    }
   ],
   "source": [
    "tag_spot = random.sample(spot_tags,1)\n",
    "print(tag_spot)"
   ]
  },
  {
   "cell_type": "code",
   "execution_count": 156,
   "metadata": {},
   "outputs": [
    {
     "name": "stdout",
     "output_type": "stream",
     "text": [
      "<class 'int'>\n"
     ]
    }
   ],
   "source": [
    "# 戶外活動\n",
    "spot_importance = random.randint(1,5)\n",
    "print(type(spot_importance))"
   ]
  },
  {
   "cell_type": "code",
   "execution_count": 157,
   "metadata": {},
   "outputs": [
    {
     "name": "stdout",
     "output_type": "stream",
     "text": [
      "<class 'float'>\n"
     ]
    }
   ],
   "source": [
    "#  評分\n",
    "spot_rating = round(random.uniform(1,5),1) # 生成一個rating介在1.0~5.0\n",
    "spot_rating = \"{:.1f}\".format(spot_rating) # 讓生成的整數出現1.0\n",
    "spot_rating = float(spot_rating)\n",
    "print(type(spot_rating))"
   ]
  },
  {
   "cell_type": "code",
   "execution_count": 158,
   "metadata": {},
   "outputs": [
    {
     "name": "stdout",
     "output_type": "stream",
     "text": [
      "{'basic_days': 7, 'basic_city': '花蓮縣', 'food_importance': 1, 'food_tag': ['日本料理', '泰式料理', '宵夜'], 'food_tag2': ['燒烤'], 'food_min_rating': 3.3, 'food_max_price': 4, 'hotel_importance': 3, 'hotel_tag': ['青年/背包旅館'], 'hotel_tag2': ['停車場'], 'hotel_min_price': 12600, 'hotel_max_price': 19200, 'hotel_min_rating': 4.2, 'spot_importance': 1, 'spot_tag': ['海洋'], 'spot_min_rating': 4.5}\n"
     ]
    }
   ],
   "source": [
    "# input\n",
    "pref = {}\n",
    "pref[\"basic_days\"] = days\n",
    "pref[\"basic_city\"] = city\n",
    "pref[\"food_importance\"] = rest_importance\n",
    "pref[\"food_tag\"] = food_tag\n",
    "pref[\"food_tag2\"] = food_tag2\n",
    "pref[\"food_min_rating\"] = food_rating\n",
    "pref[\"food_max_price\"] = price\n",
    "pref[\"hotel_importance\"] = hotel_importance\n",
    "pref[\"hotel_tag\"] = tag_hotel\n",
    "pref[\"hotel_tag2\"] = tag_hotel2\n",
    "pref[\"hotel_min_price\"] = price_min \n",
    "pref[\"hotel_max_price\"] = price_max \n",
    "pref[\"hotel_min_rating\"] = hotel_rating\n",
    "pref[\"spot_importance\"] = spot_importance\n",
    "pref[\"spot_tag\"] = tag_spot\n",
    "pref[\"spot_min_rating\"] = spot_rating\n",
    "print(pref)"
   ]
  },
  {
   "cell_type": "code",
   "execution_count": 159,
   "metadata": {},
   "outputs": [],
   "source": [
    "# 寫成檔案\n",
    "filename = f\"input.txt\"\n",
    "with open(filename,\"w\",encoding=\"utf-8\") as f:\n",
    "    json.dump(pref,f,ensure_ascii=False,indent=4)"
   ]
  }
 ],
 "metadata": {
  "kernelspec": {
   "display_name": "Python 3",
   "language": "python",
   "name": "python3"
  },
  "language_info": {
   "codemirror_mode": {
    "name": "ipython",
    "version": 3
   },
   "file_extension": ".py",
   "mimetype": "text/x-python",
   "name": "python",
   "nbconvert_exporter": "python",
   "pygments_lexer": "ipython3",
   "version": "3.11.3"
  },
  "orig_nbformat": 4
 },
 "nbformat": 4,
 "nbformat_minor": 2
}
